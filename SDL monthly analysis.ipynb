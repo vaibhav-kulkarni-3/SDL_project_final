{
 "cells": [
  {
   "cell_type": "code",
   "execution_count": 2,
   "metadata": {},
   "outputs": [],
   "source": [
    "import pandas as pd\n",
    "import numpy as np\n",
    "from sklearn.linear_model import LinearRegression\n",
    "from sklearn.model_selection import train_test_split\n",
    "from sklearn.preprocessing import LabelEncoder,OneHotEncoder"
   ]
  },
  {
   "cell_type": "code",
   "execution_count": 3,
   "metadata": {
    "scrolled": false
   },
   "outputs": [
    {
     "data": {
      "text/plain": [
       "[('JANUARY', 482719),\n",
       " ('FEBRUARY', 459272),\n",
       " ('MARCH', 486141),\n",
       " ('APRIL', 479663),\n",
       " ('MAY', 521563),\n",
       " ('JUNE', 473574),\n",
       " ('JULY', 440263),\n",
       " ('AUGUST', 438351),\n",
       " ('SEPTEMBER', 435302),\n",
       " ('OCTOBER', 454961),\n",
       " ('NOVEMBER', 457192),\n",
       " ('DECEMBER', 473905)]"
      ]
     },
     "execution_count": 3,
     "metadata": {},
     "output_type": "execute_result"
    }
   ],
   "source": [
    "data_month = pd.read_csv('only_road_accidents_data_month2.csv')\n",
    "data_month.head()\n",
    "\n",
    "# accidents per month\n",
    "count = 0\n",
    "month_acc =[]\n",
    "for month in data_month.columns[2:-1]:\n",
    "    for i in data_month.index:\n",
    "        count = count + data_month.loc[i,month]\n",
    "    acc = (month,count)\n",
    "    month_acc.append(acc)\n",
    "    count = 0\n",
    "month_acc "
   ]
  },
  {
   "cell_type": "code",
   "execution_count": 5,
   "metadata": {},
   "outputs": [],
   "source": [
    "#months of max and min accidents\n",
    "\n",
    "minvalue = month_acc[0]\n",
    "maxvalue = month_acc[0]\n",
    "for x in month_acc:\n",
    "    if x[1] < minvalue[1]:\n",
    "        minvalue =x\n",
    "    if x[1] > maxvalue[1]:\n",
    "        maxvalue =x\n",
    "        "
   ]
  },
  {
   "cell_type": "code",
   "execution_count": 6,
   "metadata": {},
   "outputs": [],
   "source": [
    "i=0\n",
    "\n",
    "new_data_month = pd.DataFrame(columns = ['STATE/UT','YEAR','MONTH','ACCIDENTS'],index = np.arange(10000))\n",
    "for states in data_month['STATE/UT'].unique():\n",
    "    for year in data_month['YEAR'].unique():\n",
    "        for month in data_month.columns[2:-1]:\n",
    "            new_data_month.loc[i,'STATE/UT']= states\n",
    "            new_data_month.loc[i,'YEAR']= year\n",
    "            new_data_month.loc[i,'MONTH']= month\n",
    "            i=i+1   "
   ]
  },
  {
   "cell_type": "code",
   "execution_count": null,
   "metadata": {},
   "outputs": [],
   "source": [
    "j=0\n",
    "for i in data_month.index:\n",
    "    for month in data_month.columns[2:-1]:\n",
    "        new_data_month.loc[j,'ACCIDENTS'] = data_month.loc[i,month]\n",
    "        j=j+1\n",
    "new_data_month=new_data_month.dropna(how = 'any',axis=0)\n",
    "new_data_month.to_csv('prepared data month.csv')\n",
    "new_data_month"
   ]
  },
  {
   "cell_type": "code",
   "execution_count": 11,
   "metadata": {},
   "outputs": [
    {
     "data": {
      "text/plain": [
       "0.9758690941202749"
      ]
     },
     "execution_count": 11,
     "metadata": {},
     "output_type": "execute_result"
    }
   ],
   "source": [
    "le_month_1 = LabelEncoder()\n",
    "le_month_2 = LabelEncoder()\n",
    "new_data_month['STATE/UT']=le_month_1.fit_transform(new_data_month['STATE/UT'])\n",
    "new_data_month['MONTH']=le_month_2.fit_transform(new_data_month['MONTH'])\n",
    "\n",
    "\n",
    "ohe = OneHotEncoder(categorical_features=[0,2])\n",
    "data_month_matrix_x= new_data_month[['STATE/UT','YEAR','MONTH']].values\n",
    "data_month_matrix_y = new_data_month.ACCIDENTS\n",
    "data_month_matrix_x\n",
    "\n",
    "ohe.fit(data_month_matrix_x)\n",
    "data_matrix_month = ohe.transform(data_month_matrix_x).toarray()\n",
    "model = LinearRegression(fit_intercept=False)\n",
    "X_train ,X_test ,y_train, y_test = train_test_split(data_matrix_month,data_month_matrix_y ,test_size = 0.2)\n",
    "model.fit(X_train,y_train)\n",
    "model.score(X_test,y_test)\n"
   ]
  },
  {
   "cell_type": "code",
   "execution_count": 25,
   "metadata": {},
   "outputs": [
    {
     "name": "stdout",
     "output_type": "stream",
     "text": [
      "Give name of stateA & N Islands\n",
      "Give year2001\n",
      "Give monthJANUARY\n"
     ]
    },
    {
     "data": {
      "text/plain": [
       "array([-105.9426651])"
      ]
     },
     "execution_count": 25,
     "metadata": {},
     "output_type": "execute_result"
    }
   ],
   "source": [
    "#to take input from user\n",
    "state = input('Give name of state')\n",
    "year = int(input('Give year'))\n",
    "month = input('Give month')\n",
    "\n",
    "state = le_month_1.transform([state])\n",
    "month = le_month_2.transform([month])\n",
    "\n",
    "cal = ohe.transform([[state,year,month]])\n",
    "model.predict(cal)"
   ]
  },
  {
   "cell_type": "code",
   "execution_count": 32,
   "metadata": {},
   "outputs": [
    {
     "data": {
      "text/plain": [
       "[('JANUARY', 985.1408163265306),\n",
       " ('FEBRUARY', 937.2897959183673),\n",
       " ('MARCH', 992.1244897959184),\n",
       " ('APRIL', 978.9040816326531),\n",
       " ('MAY', 1064.4142857142858),\n",
       " ('JUNE', 966.4775510204082),\n",
       " ('JULY', 898.4959183673469),\n",
       " ('AUGUST', 894.5938775510205),\n",
       " ('SEPTEMBER', 888.3714285714286),\n",
       " ('OCTOBER', 928.4918367346938),\n",
       " ('NOVEMBER', 933.0448979591837),\n",
       " ('DECEMBER', 967.1530612244898)]"
      ]
     },
     "execution_count": 32,
     "metadata": {},
     "output_type": "execute_result"
    }
   ],
   "source": [
    "count = 0;\n",
    "mean_month =[]\n",
    "mean_month_acc =[]\n",
    "for month in data_month.columns[2:-1]:\n",
    "    for i in data_month.index :\n",
    "        mean_month.append(data_month.loc[i,month])\n",
    "    acc = (month,np.mean(mean_month))\n",
    "    mean_month =[]\n",
    "    mean_month_acc.append(acc)\n",
    "    \n",
    "mean_month_acc    \n",
    "    "
   ]
  }
 ],
 "metadata": {
  "kernelspec": {
   "display_name": "Python 3",
   "language": "python",
   "name": "python3"
  },
  "language_info": {
   "codemirror_mode": {
    "name": "ipython",
    "version": 3
   },
   "file_extension": ".py",
   "mimetype": "text/x-python",
   "name": "python",
   "nbconvert_exporter": "python",
   "pygments_lexer": "ipython3",
   "version": "3.5.2"
  }
 },
 "nbformat": 4,
 "nbformat_minor": 2
}
