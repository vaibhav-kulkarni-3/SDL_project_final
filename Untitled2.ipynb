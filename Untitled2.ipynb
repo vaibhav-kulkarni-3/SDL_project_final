{
 "cells": [
  {
   "cell_type": "code",
   "execution_count": 3,
   "metadata": {
    "scrolled": true
   },
   "outputs": [
    {
     "data": {
      "text/plain": [
       "array([1170.65799768])"
      ]
     },
     "execution_count": 3,
     "metadata": {},
     "output_type": "execute_result"
    }
   ],
   "source": [
    "import pandas as pd\n",
    "import numpy as np\n",
    "from sklearn.linear_model import LinearRegression\n",
    "from sklearn.model_selection import train_test_split\n",
    "from sklearn.preprocessing import LabelEncoder,OneHotEncoder\n",
    "from IPython.display import display\n",
    "\n",
    "data = pd.read_csv('Prepared data v1.csv')\n",
    "data =data.drop('Unnamed: 0',axis=1)\n",
    "le1 = LabelEncoder()\n",
    "le2 = LabelEncoder()\n",
    "\n",
    "for i in data.index:\n",
    "    if data.loc[i,'TIME']== '0-3 hrs. (Night)':\n",
    "        data.loc[i,'TIME'] = 0\n",
    "    elif data.loc[i,'TIME']== '3-6 hrs. (Night)':\n",
    "        data.loc[i,'TIME'] = 1\n",
    "    elif data.loc[i,'TIME']== '6-9 hrs (Day)':\n",
    "        data.loc[i,'TIME'] = 2\n",
    "    elif data.loc[i,'TIME']== '9-12 hrs (Day)':\n",
    "        data.loc[i,'TIME'] = 3\n",
    "    elif data.loc[i,'TIME']== '12-15 hrs (Day)':\n",
    "        data.loc[i,'TIME'] = 4\n",
    "    elif data.loc[i,'TIME']== '15-18 hrs (Day)':\n",
    "        data.loc[i,'TIME'] = 5\n",
    "    elif data.loc[i,'TIME']== '18-21 hrs (Night)':\n",
    "        data.loc[i,'TIME'] = 6\n",
    "    elif data.loc[i,'TIME']== '21-24 hrs (Night)':\n",
    "        data.loc[i,'TIME'] = 7\n",
    "\n",
    "data['STATE/UT']=le1.fit_transform(data['STATE/UT'])\n",
    "#data['TIME'] = le2.fit_transform(data['TIME'])\n",
    "data.loc[500]\n",
    "\n",
    "ohe = OneHotEncoder(categorical_features=[0])\n",
    "data_matrix_x= data[['STATE/UT','YEAR','TIME']].values\n",
    "data_matrix_y = data.ACCIDENTS\n",
    "data_matrix_x\n",
    "\n",
    "ohe.fit(data_matrix_x)\n",
    "\n",
    "data_matrix = ohe.transform(data_matrix_x).toarray()\n",
    "\n",
    "\n",
    "\n",
    "data_matrix\n",
    "data_matrix_y\n",
    "\n",
    "model = LinearRegression(fit_intercept=False)\n",
    "X_train ,X_test ,y_train, y_test = train_test_split(data_matrix,data_matrix_y ,test_size = 0.2)\n",
    "model.fit(X_train,y_train)\n",
    "model.score(X_test,y_test)\n",
    "\n",
    "\n",
    "cal = ohe.transform([[4,2016,4]])\n",
    "cal = cal.toarray()\n",
    "model.predict(cal)\n",
    "\n",
    "\n",
    "\n",
    "\n"
   ]
  },
  {
   "cell_type": "code",
   "execution_count": null,
   "metadata": {},
   "outputs": [],
   "source": []
  },
  {
   "cell_type": "code",
   "execution_count": null,
   "metadata": {},
   "outputs": [],
   "source": []
  }
 ],
 "metadata": {
  "kernelspec": {
   "display_name": "Python 3",
   "language": "python",
   "name": "python3"
  },
  "language_info": {
   "codemirror_mode": {
    "name": "ipython",
    "version": 3
   },
   "file_extension": ".py",
   "mimetype": "text/x-python",
   "name": "python",
   "nbconvert_exporter": "python",
   "pygments_lexer": "ipython3",
   "version": "3.5.2"
  }
 },
 "nbformat": 4,
 "nbformat_minor": 2
}
